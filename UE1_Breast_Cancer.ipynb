{
  "nbformat": 4,
  "nbformat_minor": 0,
  "metadata": {
    "colab": {
      "name": "UE1_Breast_Cancer.ipynb",
      "version": "0.3.2",
      "provenance": [],
      "collapsed_sections": [
        "53aWeqYg4e7K",
        "LqQ2nxeYh8yX",
        "GD-5vFRYeXuH",
        "DYQwqUHJznfY",
        "klwTTHSazhxJ",
        "x8jTTgLwFdhI"
      ]
    },
    "kernelspec": {
      "name": "python3",
      "language": "python",
      "display_name": "Python 3"
    },
    "accelerator": "GPU"
  },
  "cells": [
    {
      "metadata": {
        "id": "53aWeqYg4e7K",
        "colab_type": "text",
        "pycharm": {}
      },
      "cell_type": "markdown",
      "source": "# BREAST CANCER NOTEBOOK\nBreast Cancer: https://www.kaggle.com/c/184702-tu-ml-ws-18-breast-cancer/data\n* Small # samples (285)\n* Small # dimensions (32)\n* Unknown # classes (2)\n\n# Models # \n* [Decision Tree](https://scikit-learn.org/stable/modules/tree.html)\n* [kNN](https://scikit-learn.org/stable/modules/neighbors.html)\n\n# General\n## Module Installs \u0026 Imports"
    },
    {
      "metadata": {
        "id": "Yx_BVAvNzDqz",
        "colab_type": "code",
        "colab": {},
        "pycharm": {
          "is_executing": false
        }
      },
      "cell_type": "code",
      "source": "from base import *\n%run base.py\n%matplotlib inline\n",
      "execution_count": 1,
      "outputs": []
    },
    {
      "metadata": {
        "colab_type": "text",
        "id": "Mm4yxcq7SC68",
        "pycharm": {}
      },
      "cell_type": "markdown",
      "source": "# Kaggle: Breast Cancer\n## Submissions to Kaggle\n[Submissions](https://www.kaggle.com/c/184702-tu-ml-ws-18-breast-cancer/submissions?sortBy\u003ddate\u0026group\u003dall\u0026page\u003d1)\n\n## Import data"
    },
    {
      "metadata": {
        "id": "lz5eVwBIZ963",
        "colab_type": "code",
        "colab": {},
        "pycharm": {
          "is_executing": false
        }
      },
      "cell_type": "code",
      "source": "# Paths\nbreast_l \u003d mlpath + \"Breast_Cancer/breast-cancer-diagnostic.shuf.lrn.csv\"\nbreast_t \u003d mlpath + \"Breast_Cancer/breast-cancer-diagnostic.shuf.tes.csv\"\nbreast_s \u003d mlpath + \"Breast_Cancer/breast-cancer-diagnostic.shuf.sol.ex.csv\"\nbreast_resultsfolder \u003d mlpath + \"results/Breast_Cancer/\"\n\n# Read files\nb_train \u003d pd.read_csv(breast_l, sep\u003d\",\")\nb_test \u003d pd.read_csv(breast_t, sep\u003d\",\")\nb_sol \u003d pd.read_csv(breast_s, sep\u003d\",\")\n\n# Split data \nb_train_data \u003d b_train.drop([\"ID\", \"class\"], axis \u003d \"columns\") # All cols except ID and class)\nb_train_target \u003d b_train.loc[:, \"class\"] # Col class\nb_test_data \u003d b_test.drop([\"ID\"], axis \u003d \"columns\") # All cols except ID)\nb_test_target \u003d b_sol.loc[:, \"class\"] # Col class",
      "execution_count": 2,
      "outputs": []
    },
    {
      "metadata": {
        "id": "LqQ2nxeYh8yX",
        "colab_type": "text",
        "pycharm": {}
      },
      "cell_type": "markdown",
      "source": "## Upload csv to drive (Breast cancer)"
    },
    {
      "cell_type": "code",
      "execution_count": 3,
      "outputs": [],
      "source": "def upload_breast_csv(result, filename):\n  # concat b_test column ID and knnresults column class\n  b_result \u003d pd.concat([b_test.iloc[:, 0], result], axis \u003d 1)\n\n  path \u003d breast_resultsfolder + filename \n  print(path)\n  b_result.to_csv(path, sep \u003d \",\", index \u003d False)\n  print(f\"Saved as {filename}\")",
      "metadata": {
        "pycharm": {
          "metadata": false,
          "name": "#%%\n",
          "is_executing": false
        }
      }
    },
    {
      "metadata": {
        "id": "kVDYsazlBLIb",
        "colab_type": "text",
        "pycharm": {}
      },
      "cell_type": "markdown",
      "source": "## KNN (Breast cancer)"
    },
    {
      "metadata": {
        "id": "iSbCcK8KopZj",
        "colab_type": "code",
        "colab": {},
        "pycharm": {
          "is_executing": false
        }
      },
      "cell_type": "code",
      "source": "# Parameters\nscale \u003d True\nk \u003d 11\n",
      "execution_count": 4,
      "outputs": []
    },
    {
      "metadata": {
        "id": "B99uyCbueTSi",
        "colab_type": "text",
        "pycharm": {}
      },
      "cell_type": "markdown",
      "source": [
        "### Test with range of parameters"
      ]
    },
    {
      "metadata": {
        "id": "hgVx01rNeK_8",
        "colab_type": "code",
        "colab": {},
        "pycharm": {
          "is_executing": false
        }
      },
      "cell_type": "code",
      "source": "if scale:\n  b_train_data, b_test_data \u003d scale_data(b_train_data, b_test_data)\n\nfor i in range(1, 16):\n  run_knn(b_train_data, b_train_target, b_test_data, b_test_target, k \u003d i, col_name \u003d \"class\")\n",
      "execution_count": 5,
      "outputs": [
        {
          "name": "stdout",
          "text": [
            "CV: 1\n",
            "Accuracy: 0.972 (+/- 0.030), F1: 0.968 (+/- 0.035)\nCV: 2\n",
            "Accuracy: 0.958 (+/- 0.030), F1: 0.951 (+/- 0.036)\nCV: 3\n",
            "Accuracy: 0.968 (+/- 0.033), F1: 0.963 (+/- 0.039)\nCV: 4\n",
            "Accuracy: 0.965 (+/- 0.027), F1: 0.959 (+/- 0.032)\nCV: 5\n",
            "Accuracy: 0.976 (+/- 0.031), F1: 0.971 (+/- 0.037)\nCV: 6\n",
            "Accuracy: 0.976 (+/- 0.031), F1: 0.971 (+/- 0.037)\nCV: 7\n",
            "Accuracy: 0.983 (+/- 0.032), F1: 0.980 (+/- 0.038)\nCV: 8\n",
            "Accuracy: 0.972 (+/- 0.034), F1: 0.967 (+/- 0.040)\nCV: 9\n",
            "Accuracy: 0.983 (+/- 0.023), F1: 0.980 (+/- 0.027)\nCV: 10\n",
            "Accuracy: 0.983 (+/- 0.023), F1: 0.980 (+/- 0.027)\nCV: 11\n",
            "Accuracy: 0.983 (+/- 0.023), F1: 0.980 (+/- 0.027)\nCV: 12\n",
            "Accuracy: 0.983 (+/- 0.023), F1: 0.980 (+/- 0.027)\nCV: 13\n",
            "Accuracy: 0.983 (+/- 0.023), F1: 0.980 (+/- 0.027)\nCV: 14\n",
            "Accuracy: 0.972 (+/- 0.026), F1: 0.968 (+/- 0.030)\nCV: 15\n",
            "Accuracy: 0.979 (+/- 0.028), F1: 0.976 (+/- 0.032)\n"
          ],
          "output_type": "stream"
        }
      ]
    },
    {
      "metadata": {
        "id": "GD-5vFRYeXuH",
        "colab_type": "text",
        "pycharm": {}
      },
      "cell_type": "markdown",
      "source": [
        "### Create and upload KNN result"
      ]
    },
    {
      "metadata": {
        "id": "iWTwLSEpeSJX",
        "colab_type": "code",
        "colab": {},
        "pycharm": {
          "is_executing": false
        }
      },
      "cell_type": "code",
      "source": "# Preprocessing\nif scale: \n  b_train_data, b_test_data \u003d scale_data(b_train_data, b_test_data)\n  \n# Create\n(knnresult, knn) \u003d create_knn_result(b_train_data, b_train_target, b_test_data, b_test_target, k, col_name \u003d \"class\")\n\n# Upload\nupload_breast_csv(knnresult, knn_filename(k, scale))\n",
      "execution_count": 7,
      "outputs": [
        {
          "name": "stdout",
          "text": [
            "CV: 11\n",
            "Accuracy: 0.983 (+/- 0.023), F1: 0.980 (+/- 0.027)\nKNN 0.6549295774647887\n[[186  98]\n [  0   0]]\n./results/Breast_Cancer/knn_11_scaled_2019-04-22 13:56:01.496420.csv\nSaved as knn_11_scaled_2019-04-22 13:56:01.496420.csv\n"
          ],
          "output_type": "stream"
        }
      ]
    },
    {
      "cell_type": "markdown",
      "source": "## DTREE (Breast cancer)\n### Test with range of parameters",
      "metadata": {
        "pycharm": {
          "metadata": false
        }
      }
    },
    {
      "metadata": {
        "id": "c96fEg_hzoqM",
        "colab_type": "code",
        "colab": {},
        "pycharm": {
          "is_executing": true
        }
      },
      "cell_type": "code",
      "source": "criterions \u003d [\"gini\", \"entropy\"]\nmax_tree_depth \u003d [None, 1, 2, 3, 5, 8, 13, 20, 100, 500, 1000, 5000, 10000]\nfor crit in criterions:\n  for depth in max_tree_depth:\n    run_dtree(b_train_data, b_train_target, b_test_data, criterion\u003dcrit, max_depth\u003ddepth, post_prune \u003d False, col_name \u003d \"class\", skip_cv \u003d False)\n  print(\"\\n\")",
      "execution_count": null,
      "outputs": []
    },
    {
      "metadata": {
        "id": "klwTTHSazhxJ",
        "colab_type": "text",
        "pycharm": {}
      },
      "cell_type": "markdown",
      "source": [
        "### Create and upload DTREE result"
      ]
    },
    {
      "metadata": {
        "id": "diw7mL-wzgh5",
        "colab_type": "code",
        "outputId": "d8a07a57-df3a-42e2-da95-75ff2b4a2dad",
        "executionInfo": {
          "status": "ok",
          "timestamp": 1543259685221,
          "user_tz": -60,
          "elapsed": 1180,
          "user": {
            "displayName": "Anna Nau",
            "photoUrl": "",
            "userId": "04580828912061774090"
          }
        },
        "colab": {
          "base_uri": "https://localhost:8080/",
          "height": 1083
        },
        "pycharm": {
          "is_executing": true
        }
      },
      "cell_type": "code",
      "source": "# Parameters\ncriterion \u003d \"entropy\"\nmax_depth \u003d None\npost_prune \u003d False\n\n# Create\n(dtreeresult, dtree_clf) \u003d create_dtree_results(b_train_data, b_train_target, b_test_data, b_test_target, \n                                                criterion\u003dcriterion, max_depth\u003dmax_depth, post_prune\u003dpost_prune, \n                                                col_name \u003d \"class\", skip_cv \u003d True)\n\n# Upload\nupload_breast_csv(dtreeresult, dtree_filename(criterion, max_depth, post_prune))\nplot_tree(dtree_clf)\n\n",
      "execution_count": null,
      "outputs": []
    },
    {
      "cell_type": "code",
      "execution_count": null,
      "outputs": [],
      "source": "\n",
      "metadata": {
        "pycharm": {
          "metadata": false,
          "name": "#%%\n"
        }
      }
    }
  ]
}