{
  "nbformat": 4,
  "nbformat_minor": 0,
  "metadata": {
    "colab": {
      "name": "UE1_Arrhythmia.ipynb",
      "version": "0.3.2",
      "provenance": [],
      "collapsed_sections": [
        "Y0N7wshF4e7L",
        "eahb91VrDFZ_"
      ]
    },
    "kernelspec": {
      "name": "python3",
      "language": "python",
      "display_name": "Python 3"
    },
    "accelerator": "GPU"
  },
  "cells": [
    {
      "metadata": {
        "id": "53aWeqYg4e7K",
        "colab_type": "text",
        "pycharm": {}
      },
      "cell_type": "markdown",
      "source": "# ARRHYTMIA NOTEBOOK\nArrythmia: https://archive.ics.uci.edu/ml/datasets/Arrhythmia\n* Small # samples (452)\n* Large # dimensions (279)\n* Large # classes (16)\n\n# Models # \n* [Decision Tree](https://scikit-learn.org/stable/modules/tree.html)\n* [kNN](https://scikit-learn.org/stable/modules/neighbors.html)\n\n# General\n## Module Installs \u0026 Imports"
    },
    {
      "metadata": {
        "id": "Yx_BVAvNzDqz",
        "colab_type": "code",
        "outputId": "c51fd8ca-523c-4b1d-cee0-9a9ea7e83a14",
        "executionInfo": {
          "status": "ok",
          "timestamp": 1543251470023,
          "user_tz": -60,
          "elapsed": 7233,
          "user": {
            "displayName": "M L",
            "photoUrl": "https://lh5.googleusercontent.com/-mlTix-TZngc/AAAAAAAAAAI/AAAAAAAAAAc/MNUDKBsVK04/s64/photo.jpg",
            "userId": "12893108901147853392"
          }
        },
        "colab": {
          "base_uri": "https://localhost:8080/",
          "height": 204
        },
        "pycharm": {
          "is_executing": false
        }
      },
      "cell_type": "code",
      "source": "from base import *\n%run base.py\n%matplotlib inline\n",
      "execution_count": 17,
      "outputs": [
        {
          "name": "stderr",
          "text": [
            "ERROR:root:File `\u0027base.py\u0027` not found.\n"
          ],
          "output_type": "stream"
        }
      ]
    },
    {
      "metadata": {
        "id": "BWLJG_JwYyH7",
        "colab_type": "text",
        "pycharm": {}
      },
      "cell_type": "markdown",
      "source": "# Arrhythmia\n## Import data"
    },
    {
      "metadata": {
        "id": "8DTMlErXC0a_",
        "colab_type": "code",
        "colab": {},
        "pycharm": {
          "is_executing": false
        }
      },
      "cell_type": "code",
      "source": "# arry \u003d mlpath + \"Arrhythmia\\\\arrhythmia.data.txt\"\narry \u003d mlpath + \"data/Arrythmia/arrhythmia.data.txt\"\n\n# replace ? by np.nan\nrepl \u003d lambda x: np.nan if x \u003d\u003d \u0027?\u0027 else x\nconverters \u003d {10: repl, 11: repl, 12: repl, 13: repl,14: repl, 15: repl}\n\n\na_train \u003d pd.read_csv(arry, sep\u003d\u0027,\u0027, header\u003dNone, converters\u003dconverters)\n\n#print(a_train.iloc[:, 10:16])\n\na_train \u003d a_train.dropna(axis \u003d \u0027columns\u0027, thresh \u003d a_train.shape[0]*.3) # drop all cols with \u003e 30% nans\na_train \u003d a_train.fillna(a_train.mean(axis \u003d 1)) # fill nans with mean\n#a_train \u003d a_train.fillna(-999) # fill nans with dummy value\n\n#print(a_train.iloc[:, 10:15])\n\na_train[10] \u003d pd.to_numeric(a_train[10])\na_train[11] \u003d pd.to_numeric(a_train[11])\na_train[12] \u003d pd.to_numeric(a_train[12])\n#a_train[13] \u003d pd.to_numeric(a_train[13])\na_train[14] \u003d pd.to_numeric(a_train[14])\na_train[15] \u003d pd.to_numeric(a_train[15])\n\n\na_target \u003d a_train.iloc[:, -1]\na_train \u003d a_train.iloc[:, :-1]\n\n#a_train \u003d scale_data(a_train)\n#a_train \u003d pca(a_train, 17)\n\n\n#a_train[:, 10:15] \u003d a_train[:, 10:15].astype(\u0027int64\u0027)\n#print(a_train.info(verbose \u003d True))\n\n#a_train.iloc[:, 10:15]\n#a_target\n#a_train\n#a_target.unique()\n",
      "execution_count": 18,
      "outputs": []
    },
    {
      "metadata": {
        "id": "3eeqam-Rg0xq",
        "colab_type": "code",
        "outputId": "9ed180ac-ebca-415b-93e7-65c56c885bf1",
        "executionInfo": {
          "status": "ok",
          "timestamp": 1543253552510,
          "user_tz": -60,
          "elapsed": 1037,
          "user": {
            "displayName": "M L",
            "photoUrl": "https://lh5.googleusercontent.com/-mlTix-TZngc/AAAAAAAAAAI/AAAAAAAAAAc/MNUDKBsVK04/s64/photo.jpg",
            "userId": "12893108901147853392"
          }
        },
        "colab": {
          "base_uri": "https://localhost:8080/",
          "height": 451
        },
        "pycharm": {
          "is_executing": false
        }
      },
      "cell_type": "code",
      "source": "# KNN\nknn \u003d neighbors.KNeighborsClassifier()\n\nparams \u003d {\u0027n_neighbors\u0027: range(1,16)}\n\nclf \u003d model_selection.GridSearchCV(knn, cv\u003d3, param_grid\u003dparams)\nclf.fit(a_train, a_target)\n\nprint(clf.best_score_, clf.best_estimator_.n_neighbors)\n\nprint(clf.best_estimator_.predict(a_train))\n\n# --- pca ---\n#0.6128318584070797 5 | drop \u003e 30% nans, fill mean\n#0.6039823008849557 5 | drop nothing, fill mean\n#0.6327433628318584 6 | drop nothing, fill mean, scale\n#0.6261061946902655 6 | drop \u003e 30% nans, fill mean, scale\n#0.6305309734513275 6 | drop nothing, fill 0, scale\n#0.6349557522123894 5 | drop nothing, fill -999, scale\n\n# --- no pca ---\n#0.6106194690265486 5 | drop \u003e 30% nans, fill mean, \n",
      "execution_count": 19,
      "outputs": [
        {
          "name": "stderr",
          "text": [
            "/Library/Frameworks/Python.framework/Versions/3.7/lib/python3.7/site-packages/sklearn/model_selection/_split.py:652: Warning: The least populated class in y has only 2 members, which is too few. The minimum number of members in any class cannot be less than n_splits\u003d3.\n  % (min_groups, self.n_splits)), Warning)\n",
            "/Library/Frameworks/Python.framework/Versions/3.7/lib/python3.7/site-packages/sklearn/model_selection/_search.py:841: DeprecationWarning: The default of the `iid` parameter will change from True to False in version 0.22 and will be removed in 0.24. This will change numeric results when test-set sizes are unequal.\n  DeprecationWarning)\n"
          ],
          "output_type": "stream"
        },
        {
          "name": "stdout",
          "text": [
            "0.6039823008849557 3\n[ 1  1 10  1  1  1  1  1  1 10  1  1  2  1  1  1  1  1  1  1  1  1  1  1\n  1  1  1 10  2  2  1  1  1  1  1  1  1 10  1  6  1  1  1  1  1  1  1  1\n  1  1  1  1  1  1  1  6  1  1  1  1  5  1  1  1  1  1  1  1  6  1  6  1\n  1  1  1 10  3  1  1  1  1  1  1  4  6  9  1  1  9  9  1  4  1  1  1  1\n  1  1  1  1  1  1  1  1  6  4  1  1  1  1  1  1  1  1  1  1  2  1  1  1\n  1  1  1  1  1  1  1  1  1  1  1  1  1  1  1  1  1  1  1  1  1  5  1  1\n  1 10 10  1  1 10  1  1  6  1  1  1  1 10  1  1  1  1  1  1  1  1  1  1\n  1  4  1  1  1  1  1  6  1  1  1  1  1  1  1  1  2  4  1  2  1  9  1  1\n  1  1  1  1  1  1  1  1  1  1  1  1  3  1  1  9  1  1  1  1  1  2  4  1\n  2 15  3 15  1  1  1  1  1  3  1  1  1  1  1  4  1  1  1  2  1  1  1  1\n  1  2  1 15  1  2  1  1  1  1  1  4  3  3  1  1  2  3  1  2  1  5  1  1\n  1  1  1  1  1  1  1  1  1  1  1  1  1  1  1  1  1  1  1  6 10  3  1  1\n  1  1  1 10  1  1  2  1  2 10  1  1  1  1  1  3  2  1  3  1  1  1  1  1\n 10  1  1  1  5  1  1  1  1  1  1  1  1  1  1  2  1  2  1  1  1  1  1  1\n 10  1  1  4  1  1  1  1  1  1  1  1  1  1  1  2  1 10  1  1  3  1  1  2\n  1  3  1 10  6  1  1  1  2  1  9  1  1  1  1  2  1  1  1 10  1  3  1  1\n  1  1  1  1  9  1  1  1  1  1  1  9  1 10  3  1  1  1  1 10  1  1  1  1\n  1  2  1  1  1  1  1  1  1  2  1  1  2  1  1  1  1  1  1 10  1  1 10  1\n  1  3  1  1  1  1  1  1  1  1  1 10  1  1  1  1  1  1  1  1]\n"
          ],
          "output_type": "stream"
        }
      ]
    },
    {
      "metadata": {
        "id": "BYz_dO79imNC",
        "colab_type": "code",
        "outputId": "1b8070d5-00f4-44b3-f73e-8756ff6598b1",
        "executionInfo": {
          "status": "ok",
          "timestamp": 1543261580273,
          "user_tz": -60,
          "elapsed": 4073,
          "user": {
            "displayName": "M L",
            "photoUrl": "https://lh5.googleusercontent.com/-mlTix-TZngc/AAAAAAAAAAI/AAAAAAAAAAc/MNUDKBsVK04/s64/photo.jpg",
            "userId": "12893108901147853392"
          }
        },
        "colab": {
          "base_uri": "https://localhost:8080/",
          "height": 516
        },
        "pycharm": {
          "is_executing": false
        }
      },
      "cell_type": "code",
      "source": "# DTREE\nparams \u003d {\n  \u0027criterion\u0027: [\u0027gini\u0027, \u0027entropy\u0027],\n  \u0027max_depth\u0027: [None, 1, 2, 3, 5, 8, 13, 20, 100, 500, 1000, 5000, 10000],\n}\n\ndtree \u003d DecisionTreeClassifier()\n\nclf \u003d model_selection.GridSearchCV(dtree, param_grid\u003dparams, iid\u003dTrue)\nclf.fit(a_train, a_target)\n\nprint(clf.best_score_, clf.best_estimator_.criterion, clf.best_estimator_.max_depth)\n\nprint(clf.best_estimator_.predict(a_train))\n\n# --- pca ---\n#0.5597345132743363 gini 1 | drop \u003e 30% nans, fill mean \n#0.5685840707964602 entropy 3 | drop nothing, fill mean\n#0.5929203539823009 gini 5 | drop nothing, fill mean, scale\n#0.5951327433628318 gini 3 | drop \u003e 30% nans, fill mean, scale\n#0.5862831858407079 gini 5 | drop nothing, fill 0, scale\n#0.581858407079646 gini 3 | drop nothing, fill -999, scale\n\n# --- no pca ---\n#0.665929203539823 gini 5 | drop \u003e 30, fill mean, no scale \n",
      "execution_count": 20,
      "outputs": [
        {
          "name": "stderr",
          "text": [
            "/Library/Frameworks/Python.framework/Versions/3.7/lib/python3.7/site-packages/sklearn/model_selection/_split.py:2053: FutureWarning: You should specify a value for \u0027cv\u0027 instead of relying on the default value. The default value will change from 3 to 5 in version 0.22.\n  warnings.warn(CV_WARNING, FutureWarning)\n/Library/Frameworks/Python.framework/Versions/3.7/lib/python3.7/site-packages/sklearn/model_selection/_split.py:652: Warning: The least populated class in y has only 2 members, which is too few. The minimum number of members in any class cannot be less than n_splits\u003d3.\n  % (min_groups, self.n_splits)), Warning)\n"
          ],
          "output_type": "stream"
        },
        {
          "name": "stdout",
          "text": [
            "0.6637168141592921 gini 8\n[ 4  6 10  1  7 14  1  1  1 10  3  1 10  6  1  1 10  1  1  1  1  1  1  1\n  1  1 14 10  2  2  6  1  1  1  1  1  1 10  1  6  1  1  1  1  1  4  1  1\n  6  1  1  1 10  1 16  6  1  1  1  1  5  1  1  1  1  1  2  1  6  1  6  1\n  1  1  1 10  3  2  1  1  1  1  2  4  6  9  2  4  9  9  1  1  1  5 10  1\n 10  1  1  1  4  1  1  1  6  4  6  1  2  1  1  1  1  1  6  1  1  1  1  1\n  1  1  1  1  1  1  1  1  1  1  1  1  1  1  1  1  1 10  1  1  1  5  1  1\n 10 10 10  1  1 10  1  1  1  6 16  1  1  1  1  1  1  1  1  1  1  1  1  1\n  5  4  1  1  1 10 15  6  1  1  1  2  1  1  1  4  2  4  1  2 16  9  1  1\n  1  2  1  1  1 16 16  1  1  1  1  1  3  1  1  9  1 10 10  1  2  1  4  1\n  2 15  3 16  1  1  6  1 10  3  1 16  1  1  1  4  1  1  1  2  1  2  1  1\n  1  1  1 16  1  1  1  1  4  1 10  4  3  3  1  1  2  3  5  1  1  1  1  1\n  1  1 10  1  1  1  1  1  6  1  1  1  1  1 10  1  1  1  1  6 10  3  1  1\n  1  1  1 10  1 10  2  1  2 10 10  1 15  1  6  3  2  1 16  6  2  1  1  1\n 10 10  1  1  5  1  1 10 16  1  2  2 10  1 10  7  1  2  1  1  1  1 10  1\n  1  1  1  1 16  1  1  6 10  1 10  1  5  1  1  2  1 10 16  1  3  2  6  2\n  2  3 16 10  6  1  2  2  2  1  9  1  2  1  1  2 10  1  1 10 16  3  1  1\n  6  1 16  5  9  1  1  1  1  1  1  9  1 10  3  1  1  1  1  5  1  1  1  1\n  1  1  4  1 16  1  1  1  1 16  1  1 15  1  1  1  1  1  1 10  1 16 10  6\n 10  3  1  1  1  1  1  1  1  1  1 10  1  1  1  1  1  2  1  1]\n"
          ],
          "output_type": "stream"
        }
      ]
    },
    {
      "metadata": {
        "id": "M7z4tGByKuA_",
        "colab_type": "code",
        "colab": {},
        "pycharm": {
          "is_executing": false
        }
      },
      "cell_type": "code",
      "source": "criterions \u003d [\u0027gini\u0027, \u0027entropy\u0027]\nmax_tree_depth \u003d [None, 1, 2, 3, 5, 8, 13, 20, 100, 500, 1000, 5000, 10000]\nfor crit in criterions:\n  for depth in max_tree_depth:\n    run_dtree2(a_train, a_target, pd.DataFrame, criterion\u003dcrit, max_depth\u003ddepth, post_prune\u003dFalse, skip_cv\u003dFalse, num_cv\u003d2)\n  print(\u0027\\n\u0027)\n",
      "execution_count": 21,
      "outputs": [
        {
          "name": "stdout",
          "text": [
            "CV: [Criterion] gini, [Max Tree Depth] None\nAccuracy: 0.586 (+/- 0.008), F1: 0.294 (+/- 0.019)\nCV: [Criterion] gini, [Max Tree Depth] 1\nAccuracy: 0.584 (+/- 0.015), F1: 0.097 (+/- 0.004)\nCV: [Criterion] gini, [Max Tree Depth] 2\nAccuracy: 0.591 (+/- 0.004), F1: 0.126 (+/- 0.007)\nCV: [Criterion] gini, [Max Tree Depth] 3\nAccuracy: 0.633 (+/- 0.007), F1: 0.216 (+/- 0.021)\n",
            "CV: [Criterion] gini, [Max Tree Depth] 5\nAccuracy: 0.637 (+/- 0.002), F1: 0.288 (+/- 0.014)\n",
            "CV: [Criterion] gini, [Max Tree Depth] 8\nAccuracy: 0.628 (+/- 0.002), F1: 0.329 (+/- 0.017)\nCV: [Criterion] gini, [Max Tree Depth] 13\nAccuracy: 0.606 (+/- 0.015), F1: 0.337 (+/- 0.041)\n",
            "CV: [Criterion] gini, [Max Tree Depth] 20\n",
            "Accuracy: 0.604 (+/- 0.008), F1: 0.372 (+/- 0.053)\nCV: [Criterion] gini, [Max Tree Depth] 100\nAccuracy: 0.615 (+/- 0.002), F1: 0.327 (+/- 0.017)\nCV: [Criterion] gini, [Max Tree Depth] 500\n",
            "Accuracy: 0.588 (+/- 0.007), F1: 0.357 (+/- 0.037)\n",
            "CV: [Criterion] gini, [Max Tree Depth] 1000\nAccuracy: 0.586 (+/- 0.010), F1: 0.337 (+/- 0.026)\nCV: [Criterion] gini, [Max Tree Depth] 5000",
            "\n",
            "Accuracy: 0.595 (+/- 0.005), F1: 0.385 (+/- 0.039)\nCV: [Criterion] gini, [Max Tree Depth] 10000\nAccuracy: 0.619 (+/- 0.002), F1: 0.368 (+/- 0.027)\n\n\n",
            "CV: [Criterion] entropy, [Max Tree Depth] None\n",
            "Accuracy: 0.546 (+/- 0.024), F1: 0.258 (+/- 0.020)\nCV: [Criterion] entropy, [Max Tree Depth] 1\nAccuracy: 0.564 (+/- 0.010), F1: 0.093 (+/- 0.003)\nCV: [Criterion] entropy, [Max Tree Depth] 2\n",
            "Accuracy: 0.611 (+/- 0.002), F1: 0.160 (+/- 0.005)\nCV: [Criterion] entropy, [Max Tree Depth] 3\nAccuracy: 0.660 (+/- 0.016), F1: 0.249 (+/- 0.029)\nCV: [Criterion] entropy, [Max Tree Depth] 5\n",
            "Accuracy: 0.624 (+/- 0.007), F1: 0.270 (+/- 0.021)\nCV: [Criterion] entropy, [Max Tree Depth] 8\n",
            "Accuracy: 0.568 (+/- 0.032), F1: 0.303 (+/- 0.052)\nCV: [Criterion] entropy, [Max Tree Depth] 13\n",
            "Accuracy: 0.555 (+/- 0.037), F1: 0.285 (+/- 0.051)\nCV: [Criterion] entropy, [Max Tree Depth] 20\n",
            "Accuracy: 0.583 (+/- 0.052), F1: 0.328 (+/- 0.021)\nCV: [Criterion] entropy, [Max Tree Depth] 100\n",
            "Accuracy: 0.553 (+/- 0.012), F1: 0.300 (+/- 0.046)\nCV: [Criterion] entropy, [Max Tree Depth] 500\n",
            "Accuracy: 0.568 (+/- 0.032), F1: 0.287 (+/- 0.004)\nCV: [Criterion] entropy, [Max Tree Depth] 1000\n",
            "Accuracy: 0.548 (+/- 0.035), F1: 0.273 (+/- 0.028)\n",
            "CV: [Criterion] entropy, [Max Tree Depth] 5000\nAccuracy: 0.573 (+/- 0.027), F1: 0.374 (+/- 0.001)\nCV: [Criterion] entropy, [Max Tree Depth] 10000\n",
            "Accuracy: 0.553 (+/- 0.021), F1: 0.276 (+/- 0.044)\n\n\n"
          ],
          "output_type": "stream"
        },
        {
          "name": "stderr",
          "text": [
            "/Library/Frameworks/Python.framework/Versions/3.7/lib/python3.7/site-packages/sklearn/metrics/classification.py:1143: UndefinedMetricWarning: F-score is ill-defined and being set to 0.0 in labels with no predicted samples.\n  \u0027precision\u0027, \u0027predicted\u0027, average, warn_for)\n/Library/Frameworks/Python.framework/Versions/3.7/lib/python3.7/site-packages/sklearn/metrics/classification.py:1143: UndefinedMetricWarning: F-score is ill-defined and being set to 0.0 in labels with no predicted samples.\n  \u0027precision\u0027, \u0027predicted\u0027, average, warn_for)\n/Library/Frameworks/Python.framework/Versions/3.7/lib/python3.7/site-packages/sklearn/metrics/classification.py:1143: UndefinedMetricWarning: F-score is ill-defined and being set to 0.0 in labels with no predicted samples.\n  \u0027precision\u0027, \u0027predicted\u0027, average, warn_for)\n/Library/Frameworks/Python.framework/Versions/3.7/lib/python3.7/site-packages/sklearn/metrics/classification.py:1143: UndefinedMetricWarning: F-score is ill-defined and being set to 0.0 in labels with no predicted samples.\n  \u0027precision\u0027, \u0027predicted\u0027, average, warn_for)\n/Library/Frameworks/Python.framework/Versions/3.7/lib/python3.7/site-packages/sklearn/metrics/classification.py:1143: UndefinedMetricWarning: F-score is ill-defined and being set to 0.0 in labels with no predicted samples.\n  \u0027precision\u0027, \u0027predicted\u0027, average, warn_for)\n/Library/Frameworks/Python.framework/Versions/3.7/lib/python3.7/site-packages/sklearn/metrics/classification.py:1143: UndefinedMetricWarning: F-score is ill-defined and being set to 0.0 in labels with no predicted samples.\n  \u0027precision\u0027, \u0027predicted\u0027, average, warn_for)\n/Library/Frameworks/Python.framework/Versions/3.7/lib/python3.7/site-packages/sklearn/metrics/classification.py:1143: UndefinedMetricWarning: F-score is ill-defined and being set to 0.0 in labels with no predicted samples.\n  \u0027precision\u0027, \u0027predicted\u0027, average, warn_for)\n/Library/Frameworks/Python.framework/Versions/3.7/lib/python3.7/site-packages/sklearn/metrics/classification.py:1143: UndefinedMetricWarning: F-score is ill-defined and being set to 0.0 in labels with no predicted samples.\n  \u0027precision\u0027, \u0027predicted\u0027, average, warn_for)\n/Library/Frameworks/Python.framework/Versions/3.7/lib/python3.7/site-packages/sklearn/metrics/classification.py:1143: UndefinedMetricWarning: F-score is ill-defined and being set to 0.0 in labels with no predicted samples.\n  \u0027precision\u0027, \u0027predicted\u0027, average, warn_for)\n/Library/Frameworks/Python.framework/Versions/3.7/lib/python3.7/site-packages/sklearn/metrics/classification.py:1143: UndefinedMetricWarning: F-score is ill-defined and being set to 0.0 in labels with no predicted samples.\n  \u0027precision\u0027, \u0027predicted\u0027, average, warn_for)\n/Library/Frameworks/Python.framework/Versions/3.7/lib/python3.7/site-packages/sklearn/metrics/classification.py:1143: UndefinedMetricWarning: F-score is ill-defined and being set to 0.0 in labels with no predicted samples.\n  \u0027precision\u0027, \u0027predicted\u0027, average, warn_for)\n/Library/Frameworks/Python.framework/Versions/3.7/lib/python3.7/site-packages/sklearn/metrics/classification.py:1143: UndefinedMetricWarning: F-score is ill-defined and being set to 0.0 in labels with no predicted samples.\n  \u0027precision\u0027, \u0027predicted\u0027, average, warn_for)\n/Library/Frameworks/Python.framework/Versions/3.7/lib/python3.7/site-packages/sklearn/metrics/classification.py:1143: UndefinedMetricWarning: F-score is ill-defined and being set to 0.0 in labels with no predicted samples.\n  \u0027precision\u0027, \u0027predicted\u0027, average, warn_for)\n/Library/Frameworks/Python.framework/Versions/3.7/lib/python3.7/site-packages/sklearn/metrics/classification.py:1143: UndefinedMetricWarning: F-score is ill-defined and being set to 0.0 in labels with no predicted samples.\n  \u0027precision\u0027, \u0027predicted\u0027, average, warn_for)\n/Library/Frameworks/Python.framework/Versions/3.7/lib/python3.7/site-packages/sklearn/metrics/classification.py:1143: UndefinedMetricWarning: F-score is ill-defined and being set to 0.0 in labels with no predicted samples.\n  \u0027precision\u0027, \u0027predicted\u0027, average, warn_for)\n/Library/Frameworks/Python.framework/Versions/3.7/lib/python3.7/site-packages/sklearn/metrics/classification.py:1143: UndefinedMetricWarning: F-score is ill-defined and being set to 0.0 in labels with no predicted samples.\n  \u0027precision\u0027, \u0027predicted\u0027, average, warn_for)\n/Library/Frameworks/Python.framework/Versions/3.7/lib/python3.7/site-packages/sklearn/metrics/classification.py:1143: UndefinedMetricWarning: F-score is ill-defined and being set to 0.0 in labels with no predicted samples.\n  \u0027precision\u0027, \u0027predicted\u0027, average, warn_for)\n/Library/Frameworks/Python.framework/Versions/3.7/lib/python3.7/site-packages/sklearn/metrics/classification.py:1143: UndefinedMetricWarning: F-score is ill-defined and being set to 0.0 in labels with no predicted samples.\n  \u0027precision\u0027, \u0027predicted\u0027, average, warn_for)\n/Library/Frameworks/Python.framework/Versions/3.7/lib/python3.7/site-packages/sklearn/metrics/classification.py:1143: UndefinedMetricWarning: F-score is ill-defined and being set to 0.0 in labels with no predicted samples.\n  \u0027precision\u0027, \u0027predicted\u0027, average, warn_for)\n/Library/Frameworks/Python.framework/Versions/3.7/lib/python3.7/site-packages/sklearn/metrics/classification.py:1143: UndefinedMetricWarning: F-score is ill-defined and being set to 0.0 in labels with no predicted samples.\n  \u0027precision\u0027, \u0027predicted\u0027, average, warn_for)\n",
            "/Library/Frameworks/Python.framework/Versions/3.7/lib/python3.7/site-packages/sklearn/metrics/classification.py:1143: UndefinedMetricWarning: F-score is ill-defined and being set to 0.0 in labels with no predicted samples.\n  \u0027precision\u0027, \u0027predicted\u0027, average, warn_for)\n/Library/Frameworks/Python.framework/Versions/3.7/lib/python3.7/site-packages/sklearn/metrics/classification.py:1143: UndefinedMetricWarning: F-score is ill-defined and being set to 0.0 in labels with no predicted samples.\n  \u0027precision\u0027, \u0027predicted\u0027, average, warn_for)\n/Library/Frameworks/Python.framework/Versions/3.7/lib/python3.7/site-packages/sklearn/metrics/classification.py:1143: UndefinedMetricWarning: F-score is ill-defined and being set to 0.0 in labels with no predicted samples.\n  \u0027precision\u0027, \u0027predicted\u0027, average, warn_for)\n/Library/Frameworks/Python.framework/Versions/3.7/lib/python3.7/site-packages/sklearn/metrics/classification.py:1143: UndefinedMetricWarning: F-score is ill-defined and being set to 0.0 in labels with no predicted samples.\n  \u0027precision\u0027, \u0027predicted\u0027, average, warn_for)\n",
            "/Library/Frameworks/Python.framework/Versions/3.7/lib/python3.7/site-packages/sklearn/metrics/classification.py:1143: UndefinedMetricWarning: F-score is ill-defined and being set to 0.0 in labels with no predicted samples.\n  \u0027precision\u0027, \u0027predicted\u0027, average, warn_for)\n/Library/Frameworks/Python.framework/Versions/3.7/lib/python3.7/site-packages/sklearn/metrics/classification.py:1143: UndefinedMetricWarning: F-score is ill-defined and being set to 0.0 in labels with no predicted samples.\n  \u0027precision\u0027, \u0027predicted\u0027, average, warn_for)\n/Library/Frameworks/Python.framework/Versions/3.7/lib/python3.7/site-packages/sklearn/metrics/classification.py:1143: UndefinedMetricWarning: F-score is ill-defined and being set to 0.0 in labels with no predicted samples.\n  \u0027precision\u0027, \u0027predicted\u0027, average, warn_for)\n/Library/Frameworks/Python.framework/Versions/3.7/lib/python3.7/site-packages/sklearn/metrics/classification.py:1143: UndefinedMetricWarning: F-score is ill-defined and being set to 0.0 in labels with no predicted samples.\n  \u0027precision\u0027, \u0027predicted\u0027, average, warn_for)\n",
            "/Library/Frameworks/Python.framework/Versions/3.7/lib/python3.7/site-packages/sklearn/metrics/classification.py:1143: UndefinedMetricWarning: F-score is ill-defined and being set to 0.0 in labels with no predicted samples.\n  \u0027precision\u0027, \u0027predicted\u0027, average, warn_for)\n/Library/Frameworks/Python.framework/Versions/3.7/lib/python3.7/site-packages/sklearn/metrics/classification.py:1143: UndefinedMetricWarning: F-score is ill-defined and being set to 0.0 in labels with no predicted samples.\n  \u0027precision\u0027, \u0027predicted\u0027, average, warn_for)\n/Library/Frameworks/Python.framework/Versions/3.7/lib/python3.7/site-packages/sklearn/metrics/classification.py:1143: UndefinedMetricWarning: F-score is ill-defined and being set to 0.0 in labels with no predicted samples.\n  \u0027precision\u0027, \u0027predicted\u0027, average, warn_for)\n",
            "/Library/Frameworks/Python.framework/Versions/3.7/lib/python3.7/site-packages/sklearn/metrics/classification.py:1143: UndefinedMetricWarning: F-score is ill-defined and being set to 0.0 in labels with no predicted samples.\n  \u0027precision\u0027, \u0027predicted\u0027, average, warn_for)\n/Library/Frameworks/Python.framework/Versions/3.7/lib/python3.7/site-packages/sklearn/metrics/classification.py:1143: UndefinedMetricWarning: F-score is ill-defined and being set to 0.0 in labels with no predicted samples.\n  \u0027precision\u0027, \u0027predicted\u0027, average, warn_for)\n/Library/Frameworks/Python.framework/Versions/3.7/lib/python3.7/site-packages/sklearn/metrics/classification.py:1143: UndefinedMetricWarning: F-score is ill-defined and being set to 0.0 in labels with no predicted samples.\n  \u0027precision\u0027, \u0027predicted\u0027, average, warn_for)\n",
            "/Library/Frameworks/Python.framework/Versions/3.7/lib/python3.7/site-packages/sklearn/metrics/classification.py:1143: UndefinedMetricWarning: F-score is ill-defined and being set to 0.0 in labels with no predicted samples.\n  \u0027precision\u0027, \u0027predicted\u0027, average, warn_for)\n/Library/Frameworks/Python.framework/Versions/3.7/lib/python3.7/site-packages/sklearn/metrics/classification.py:1143: UndefinedMetricWarning: F-score is ill-defined and being set to 0.0 in labels with no predicted samples.\n  \u0027precision\u0027, \u0027predicted\u0027, average, warn_for)\n/Library/Frameworks/Python.framework/Versions/3.7/lib/python3.7/site-packages/sklearn/metrics/classification.py:1143: UndefinedMetricWarning: F-score is ill-defined and being set to 0.0 in labels with no predicted samples.\n  \u0027precision\u0027, \u0027predicted\u0027, average, warn_for)\n/Library/Frameworks/Python.framework/Versions/3.7/lib/python3.7/site-packages/sklearn/metrics/classification.py:1143: UndefinedMetricWarning: F-score is ill-defined and being set to 0.0 in labels with no predicted samples.\n  \u0027precision\u0027, \u0027predicted\u0027, average, warn_for)\n/Library/Frameworks/Python.framework/Versions/3.7/lib/python3.7/site-packages/sklearn/metrics/classification.py:1143: UndefinedMetricWarning: F-score is ill-defined and being set to 0.0 in labels with no predicted samples.\n  \u0027precision\u0027, \u0027predicted\u0027, average, warn_for)\n/Library/Frameworks/Python.framework/Versions/3.7/lib/python3.7/site-packages/sklearn/metrics/classification.py:1143: UndefinedMetricWarning: F-score is ill-defined and being set to 0.0 in labels with no predicted samples.\n  \u0027precision\u0027, \u0027predicted\u0027, average, warn_for)\n/Library/Frameworks/Python.framework/Versions/3.7/lib/python3.7/site-packages/sklearn/metrics/classification.py:1143: UndefinedMetricWarning: F-score is ill-defined and being set to 0.0 in labels with no predicted samples.\n  \u0027precision\u0027, \u0027predicted\u0027, average, warn_for)\n/Library/Frameworks/Python.framework/Versions/3.7/lib/python3.7/site-packages/sklearn/metrics/classification.py:1143: UndefinedMetricWarning: F-score is ill-defined and being set to 0.0 in labels with no predicted samples.\n  \u0027precision\u0027, \u0027predicted\u0027, average, warn_for)\n/Library/Frameworks/Python.framework/Versions/3.7/lib/python3.7/site-packages/sklearn/metrics/classification.py:1143: UndefinedMetricWarning: F-score is ill-defined and being set to 0.0 in labels with no predicted samples.\n  \u0027precision\u0027, \u0027predicted\u0027, average, warn_for)\n/Library/Frameworks/Python.framework/Versions/3.7/lib/python3.7/site-packages/sklearn/metrics/classification.py:1143: UndefinedMetricWarning: F-score is ill-defined and being set to 0.0 in labels with no predicted samples.\n  \u0027precision\u0027, \u0027predicted\u0027, average, warn_for)\n/Library/Frameworks/Python.framework/Versions/3.7/lib/python3.7/site-packages/sklearn/metrics/classification.py:1143: UndefinedMetricWarning: F-score is ill-defined and being set to 0.0 in labels with no predicted samples.\n  \u0027precision\u0027, \u0027predicted\u0027, average, warn_for)\n/Library/Frameworks/Python.framework/Versions/3.7/lib/python3.7/site-packages/sklearn/metrics/classification.py:1143: UndefinedMetricWarning: F-score is ill-defined and being set to 0.0 in labels with no predicted samples.\n  \u0027precision\u0027, \u0027predicted\u0027, average, warn_for)\n/Library/Frameworks/Python.framework/Versions/3.7/lib/python3.7/site-packages/sklearn/metrics/classification.py:1143: UndefinedMetricWarning: F-score is ill-defined and being set to 0.0 in labels with no predicted samples.\n  \u0027precision\u0027, \u0027predicted\u0027, average, warn_for)\n/Library/Frameworks/Python.framework/Versions/3.7/lib/python3.7/site-packages/sklearn/metrics/classification.py:1143: UndefinedMetricWarning: F-score is ill-defined and being set to 0.0 in labels with no predicted samples.\n  \u0027precision\u0027, \u0027predicted\u0027, average, warn_for)\n",
            "/Library/Frameworks/Python.framework/Versions/3.7/lib/python3.7/site-packages/sklearn/metrics/classification.py:1143: UndefinedMetricWarning: F-score is ill-defined and being set to 0.0 in labels with no predicted samples.\n  \u0027precision\u0027, \u0027predicted\u0027, average, warn_for)\n/Library/Frameworks/Python.framework/Versions/3.7/lib/python3.7/site-packages/sklearn/metrics/classification.py:1143: UndefinedMetricWarning: F-score is ill-defined and being set to 0.0 in labels with no predicted samples.\n  \u0027precision\u0027, \u0027predicted\u0027, average, warn_for)\n/Library/Frameworks/Python.framework/Versions/3.7/lib/python3.7/site-packages/sklearn/metrics/classification.py:1143: UndefinedMetricWarning: F-score is ill-defined and being set to 0.0 in labels with no predicted samples.\n  \u0027precision\u0027, \u0027predicted\u0027, average, warn_for)\n/Library/Frameworks/Python.framework/Versions/3.7/lib/python3.7/site-packages/sklearn/metrics/classification.py:1143: UndefinedMetricWarning: F-score is ill-defined and being set to 0.0 in labels with no predicted samples.\n  \u0027precision\u0027, \u0027predicted\u0027, average, warn_for)\n/Library/Frameworks/Python.framework/Versions/3.7/lib/python3.7/site-packages/sklearn/metrics/classification.py:1143: UndefinedMetricWarning: F-score is ill-defined and being set to 0.0 in labels with no predicted samples.\n  \u0027precision\u0027, \u0027predicted\u0027, average, warn_for)\n",
            "/Library/Frameworks/Python.framework/Versions/3.7/lib/python3.7/site-packages/sklearn/metrics/classification.py:1143: UndefinedMetricWarning: F-score is ill-defined and being set to 0.0 in labels with no predicted samples.\n  \u0027precision\u0027, \u0027predicted\u0027, average, warn_for)\n",
            "/Library/Frameworks/Python.framework/Versions/3.7/lib/python3.7/site-packages/sklearn/metrics/classification.py:1143: UndefinedMetricWarning: F-score is ill-defined and being set to 0.0 in labels with no predicted samples.\n  \u0027precision\u0027, \u0027predicted\u0027, average, warn_for)\n/Library/Frameworks/Python.framework/Versions/3.7/lib/python3.7/site-packages/sklearn/metrics/classification.py:1143: UndefinedMetricWarning: F-score is ill-defined and being set to 0.0 in labels with no predicted samples.\n  \u0027precision\u0027, \u0027predicted\u0027, average, warn_for)\n/Library/Frameworks/Python.framework/Versions/3.7/lib/python3.7/site-packages/sklearn/metrics/classification.py:1143: UndefinedMetricWarning: F-score is ill-defined and being set to 0.0 in labels with no predicted samples.\n  \u0027precision\u0027, \u0027predicted\u0027, average, warn_for)\n",
            "/Library/Frameworks/Python.framework/Versions/3.7/lib/python3.7/site-packages/sklearn/metrics/classification.py:1143: UndefinedMetricWarning: F-score is ill-defined and being set to 0.0 in labels with no predicted samples.\n  \u0027precision\u0027, \u0027predicted\u0027, average, warn_for)\n/Library/Frameworks/Python.framework/Versions/3.7/lib/python3.7/site-packages/sklearn/metrics/classification.py:1143: UndefinedMetricWarning: F-score is ill-defined and being set to 0.0 in labels with no predicted samples.\n  \u0027precision\u0027, \u0027predicted\u0027, average, warn_for)\n/Library/Frameworks/Python.framework/Versions/3.7/lib/python3.7/site-packages/sklearn/metrics/classification.py:1143: UndefinedMetricWarning: F-score is ill-defined and being set to 0.0 in labels with no predicted samples.\n  \u0027precision\u0027, \u0027predicted\u0027, average, warn_for)\n"
          ],
          "output_type": "stream"
        }
      ]
    }
  ]
}